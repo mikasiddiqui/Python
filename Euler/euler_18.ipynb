{
 "cells": [
  {
   "cell_type": "code",
   "execution_count": 46,
   "metadata": {
    "collapsed": true
   },
   "outputs": [],
   "source": [
    "file = 'data.txt'\n",
    "f = open(file,'r')\n",
    "ic = f.readlines()\n",
    "f.close()"
   ]
  },
  {
   "cell_type": "code",
   "execution_count": 47,
   "metadata": {
    "collapsed": true
   },
   "outputs": [],
   "source": [
    "triangle_array = []\n",
    "new_array = []\n",
    "#Store rows in triangular matrix\n",
    "for line in ic:\n",
    "    line = line.strip()\n",
    "    line_list = line.split()\n",
    "    triangle_array.append(line_list)"
   ]
  },
  {
   "cell_type": "code",
   "execution_count": 48,
   "metadata": {},
   "outputs": [],
   "source": [
    "#Ignore last column, work from the bottom up\n",
    "for i in range(len(triangle_array)-2,-1,-1):\n",
    "    temp_array = []\n",
    "    for num in triangle_array[i]:\n",
    "        num_index = triangle_array[i].index(num)\n",
    "        #Take the max child value for each parent node\n",
    "        if (len(new_array) == 0):\n",
    "            max_child = max(int(triangle_array[i + 1][num_index]), int(triangle_array[i + 1][num_index + 1]))\n",
    "        else:\n",
    "            #Take summed value from previous iteration\n",
    "            max_child = max(int(new_array[-1][num_index]), int(new_array[-1][num_index + 1]))\n",
    "        new_num = int(num) + max_child\n",
    "        temp_array.append(new_num)\n",
    "    new_array.append(temp_array)"
   ]
  },
  {
   "cell_type": "code",
   "execution_count": 49,
   "metadata": {},
   "outputs": [
    {
     "data": {
      "text/plain": [
       "[1074]"
      ]
     },
     "execution_count": 49,
     "metadata": {},
     "output_type": "execute_result"
    }
   ],
   "source": [
    "#Top of the triangular matrix is the answer\n",
    "new_array[-1]"
   ]
  },
  {
   "cell_type": "code",
   "execution_count": null,
   "metadata": {
    "collapsed": true
   },
   "outputs": [],
   "source": []
  }
 ],
 "metadata": {
  "kernelspec": {
   "display_name": "Python 3",
   "language": "python",
   "name": "python3"
  },
  "language_info": {
   "codemirror_mode": {
    "name": "ipython",
    "version": 3
   },
   "file_extension": ".py",
   "mimetype": "text/x-python",
   "name": "python",
   "nbconvert_exporter": "python",
   "pygments_lexer": "ipython3",
   "version": "3.6.2"
  }
 },
 "nbformat": 4,
 "nbformat_minor": 2
}
